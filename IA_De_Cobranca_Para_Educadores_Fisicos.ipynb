{
  "nbformat": 4,
  "nbformat_minor": 0,
  "metadata": {
    "colab": {
      "provenance": [],
      "authorship_tag": "ABX9TyPb8u58wUl2ThtLhFLk8UcQ",
      "include_colab_link": true
    },
    "kernelspec": {
      "name": "python3",
      "display_name": "Python 3"
    },
    "language_info": {
      "name": "python"
    }
  },
  "cells": [
    {
      "cell_type": "markdown",
      "metadata": {
        "id": "view-in-github",
        "colab_type": "text"
      },
      "source": [
        "<a href=\"https://colab.research.google.com/github/tiagosabadini/desafio-alura-google/blob/main/IA_De_Cobranca_Para_Educadores_Fisicos.ipynb\" target=\"_parent\"><img src=\"https://colab.research.google.com/assets/colab-badge.svg\" alt=\"Open In Colab\"/></a>"
      ]
    },
    {
      "cell_type": "markdown",
      "source": [
        "## Realizando instalações e importações de libs"
      ],
      "metadata": {
        "id": "k3vy-nPDIsQ3"
      }
    },
    {
      "cell_type": "code",
      "source": [
        "!pip install -q -U google-generativeai"
      ],
      "metadata": {
        "id": "msxNjXNq4nab"
      },
      "execution_count": 14,
      "outputs": []
    },
    {
      "cell_type": "code",
      "execution_count": 15,
      "metadata": {
        "id": "Hr7jbNFd21xZ"
      },
      "outputs": [],
      "source": [
        "import google.generativeai as genai\n",
        "from google.colab import userdata\n",
        "import requests\n",
        "import json\n",
        "\n",
        "genai.configure(api_key=userdata.get('GOOGLE_API_KEY'))"
      ]
    },
    {
      "cell_type": "code",
      "source": [
        "for m in genai.list_models():\n",
        "  if 'generateContent' in m.supported_generation_methods:\n",
        "    print(m.name)"
      ],
      "metadata": {
        "id": "KRjXj19u4I9o"
      },
      "execution_count": null,
      "outputs": []
    },
    {
      "cell_type": "markdown",
      "source": [
        "## Configuração do Modelo"
      ],
      "metadata": {
        "id": "ZWilXjIA59Nt"
      }
    },
    {
      "cell_type": "code",
      "source": [
        "generation_config = {\n",
        "  \"temperature\": 1,\n",
        "  \"top_p\": 0.95,\n",
        "  \"top_k\": 0,\n",
        "  \"max_output_tokens\": 8192,\n",
        "}\n",
        "\n",
        "safety_settings = [\n",
        "  {\n",
        "    \"category\": \"HARM_CATEGORY_HARASSMENT\",\n",
        "    \"threshold\": \"BLOCK_MEDIUM_AND_ABOVE\"\n",
        "  },\n",
        "  {\n",
        "    \"category\": \"HARM_CATEGORY_HATE_SPEECH\",\n",
        "    \"threshold\": \"BLOCK_MEDIUM_AND_ABOVE\"\n",
        "  },\n",
        "  {\n",
        "    \"category\": \"HARM_CATEGORY_SEXUALLY_EXPLICIT\",\n",
        "    \"threshold\": \"BLOCK_MEDIUM_AND_ABOVE\"\n",
        "  },\n",
        "  {\n",
        "    \"category\": \"HARM_CATEGORY_DANGEROUS_CONTENT\",\n",
        "    \"threshold\": \"BLOCK_MEDIUM_AND_ABOVE\"\n",
        "  },\n",
        "]\n",
        "\n",
        "# Aqui estou buscando as instruções iniciais no repo do github\n",
        "# para que o modelo se comporte da forma como eu preciso.\n",
        "response_system_instruction=requests.get(\"https://raw.githubusercontent.com/tiagosabadini/desafio-alura-google/main/system_instruction.json\")\n",
        "\n",
        "if response_system_instruction.status_code == 200:\n",
        "    system_instruction = json.loads(response_system_instruction.content)\n",
        "    system_instruction = system_instruction[\"system_instruction\"]\n",
        "else:\n",
        "    system_instruction=\"\"\n",
        "\n",
        "model = genai.GenerativeModel(\n",
        "    model_name=\"gemini-1.5-pro-latest\",\n",
        "    generation_config=generation_config,\n",
        "    safety_settings=safety_settings,system_instruction=system_instruction)"
      ],
      "metadata": {
        "id": "rjZtuSdx58DL"
      },
      "execution_count": 25,
      "outputs": []
    },
    {
      "cell_type": "markdown",
      "source": [
        "## Inicializando o Chat"
      ],
      "metadata": {
        "id": "atYgsju-6eWN"
      }
    },
    {
      "cell_type": "code",
      "source": [
        "history = [];\n",
        "chat = model.start_chat(history=history)"
      ],
      "metadata": {
        "id": "cb7zMPsJ6gZw"
      },
      "execution_count": null,
      "outputs": []
    },
    {
      "cell_type": "markdown",
      "source": [
        "## Buscando mensalidades vencidas"
      ],
      "metadata": {
        "id": "n1pV1Qc0-uhA"
      }
    },
    {
      "cell_type": "code",
      "source": [
        "response_past_due_payments = requests.get(\"https://raw.githubusercontent.com/tiagosabadini/desafio-alura-google/main/vencimentos_proximos.json\")\n",
        "mensalidades = []\n",
        "\n",
        "if resultado.status_code == 200:\n",
        "    mensalidades = json.loads(resultado.content)\n",
        "else:\n",
        "    print(f\"Erro ao obter o JSON: {resultado.status_code}\")\n",
        "\n"
      ],
      "metadata": {
        "id": "X45geK1i-xSX"
      },
      "execution_count": 13,
      "outputs": []
    },
    {
      "cell_type": "markdown",
      "source": [
        "## Enviando a mensagem template inicial\n",
        "Ela inicia a conversa com o aluno inadimplente e, a partir do retorno dele o Gemini é acionado e continua o bate-papo."
      ],
      "metadata": {
        "id": "a2YMaC0CIFlT"
      }
    }
  ]
}