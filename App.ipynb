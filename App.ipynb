{
  "nbformat": 4,
  "nbformat_minor": 0,
  "metadata": {
    "colab": {
      "provenance": []
    },
    "kernelspec": {
      "name": "python3",
      "display_name": "Python 3"
    },
    "language_info": {
      "name": "python"
    }
  },
  "cells": [
    {
      "cell_type": "markdown",
      "source": [
        "## Realizando instalações e importações de libs"
      ],
      "metadata": {
        "id": "OJSgJ9qogNmX"
      }
    },
    {
      "cell_type": "code",
      "execution_count": 42,
      "metadata": {
        "id": "0D6wrxgsgKUD"
      },
      "outputs": [],
      "source": [
        "!pip install -q -U google-generativeai"
      ]
    },
    {
      "cell_type": "code",
      "source": [
        "import google.generativeai as genai\n",
        "from google.colab import userdata\n",
        "import requests\n",
        "import random\n",
        "import json\n",
        "\n",
        "genai.configure(api_key=userdata.get('GOOGLE_API_KEY'))"
      ],
      "metadata": {
        "id": "T7d9ekAcgRRK"
      },
      "execution_count": 43,
      "outputs": []
    },
    {
      "cell_type": "markdown",
      "source": [
        "## Buscando mensalidades com vencimentos próximos"
      ],
      "metadata": {
        "id": "wm3xlWqigWJd"
      }
    },
    {
      "cell_type": "code",
      "source": [
        "# Busca os vencimentos próximos ou passados para criar uma interação mais rica com os usúarios.\n",
        "# response_past_due_payments = requests.get(\"https://raw.githubusercontent.com/tiagosabadini/desafio-alura-google/main/vencimentos_proximos.json\")\n",
        "past_due_payments = json.loads('[{\"nome\":\"Renan Benício Renan Araújo\",\"vencimento\":\"08/05/2024\",\"forma_pagamento\":\"cartão de crédito\"},{\"nome\":\"Manoel Kauê Ricardo Pereira\",\"vencimento\":\"15/05/2024\",\"forma_pagamento\":\"boleto\"},{\"nome\":\"Letícia Patrícia da Rocha\",\"vencimento\":\"01/05/2024\",\"forma_pagamento\":\"boleto\"},{\"nome\":\"Priscila Sarah Teresinha Rocha\",\"vencimento\":\"10/05/2024\",\"forma_pagamento\":\"pix\"}]')\n",
        "random_student = random.choice(past_due_payments)\n",
        "\n",
        "# past_due_payments = []\n",
        "# if resultado.status_code == 200:\n",
        "#     past_due_payments = json.loads(response_past_due_payments.content)\n",
        "# else:\n",
        "#     print(f\"Erro ao obter o JSON: {response_past_due_payments.status_code}\")\n",
        "\n"
      ],
      "metadata": {
        "id": "maWRcz0BgYJq"
      },
      "execution_count": 44,
      "outputs": []
    },
    {
      "cell_type": "markdown",
      "source": [
        "## Configurando o contexto da conversa\n",
        "Aqui o sistema configura como será o contexto da conversa."
      ],
      "metadata": {
        "id": "A8VV-TJQgbOB"
      }
    },
    {
      "cell_type": "code",
      "source": [
        "import datetime\n",
        "import json\n",
        "\n",
        "# configure estas variáveis abaixo para alterar o comportamento do sistema\n",
        "\n",
        "# data que o modelo vai considerar como corrente\n",
        "data_atual = \"09/05/2024\"\n",
        "\n",
        "# definindo o tipo de interação\n",
        "data_atual_formatada = datetime.datetime.strptime(data_atual, \"%d/%m/%Y\")\n",
        "data_vencimento_formatada = datetime.datetime.strptime(random_student['vencimento'], \"%d/%m/%Y\")\n",
        "\n",
        "# vencido, a vencer, vence hoje\n",
        "if data_atual_formatada < data_vencimento_formatada:\n",
        "  tipo_interacao = \"a vencer\"\n",
        "elif data_atual_formatada == data_vencimento_formatada:\n",
        "  tipo_interacao = \"vence hoje\"\n",
        "else:\n",
        "  tipo_interacao = \"vencido\"\n",
        "\n",
        "\n",
        "config = {\n",
        "    \"tipo_interacao\": tipo_interacao,\n",
        "    \"nome\": random_student['nome'].split()[0],\n",
        "    \"forma_pagamento\": random_student['forma_pagamento'],\n",
        "    \"vencimento\": random_student['vencimento'],\n",
        "    \"data_atual\": data_atual\n",
        "}\n",
        "\n",
        "first_template_message = \"\"\n",
        "if config[\"tipo_interacao\"] == \"vencido\":\n",
        "  first_template_message = f\"Olá {config['nome']}, sua mensalidade venceu no dia {config['vencimento']} e não identificamos seu pagamento. Poderia nos enviar o comprovante para validarmos no nosso sistema?\"\n",
        "elif config[\"tipo_interacao\"] == \"vence hoje\":\n",
        "  first_template_message = f\"Olá {config['nome']}, o vencimento da sua mensalidade está marcado para hoje. Lembre-se que o pagamento em dia te dá direito a 5% de desconto.\"\n",
        "else:\n",
        "  first_template_message = f\"Olá {config['nome']}, o vencimento da sua mensalidade está próximo. Lembre-se que o pagamento em dia te dá direito a 5% de desconto.\"\n",
        "\n",
        "print(\"Contexto definido:\")\n",
        "print(json.dumps(config, indent=6))\n",
        "print(\"Primeira mensagem do sistema: \")\n",
        "print(first_template_message)\n"
      ],
      "metadata": {
        "id": "m42j4vlcgesb",
        "colab": {
          "base_uri": "https://localhost:8080/"
        },
        "outputId": "f3ee3e23-d5b0-4f5b-c85e-d60f88c71d58"
      },
      "execution_count": 45,
      "outputs": [
        {
          "output_type": "stream",
          "name": "stdout",
          "text": [
            "Contexto definido:\n",
            "{\n",
            "      \"tipo_interacao\": \"vencido\",\n",
            "      \"nome\": \"Renan\",\n",
            "      \"forma_pagamento\": \"cart\\u00e3o de cr\\u00e9dito\",\n",
            "      \"vencimento\": \"08/05/2024\",\n",
            "      \"data_atual\": \"09/05/2024\"\n",
            "}\n",
            "Primeira mensagem do sistema: \n",
            "Olá Renan, sua mensalidade venceu no dia 08/05/2024 e não identificamos seu pagamento. Poderia nos enviar o comprovante para validarmos no nosso sistema?\n"
          ]
        }
      ]
    },
    {
      "cell_type": "markdown",
      "source": [
        "## Configuração do Modelo"
      ],
      "metadata": {
        "id": "5IjudzyMghai"
      }
    },
    {
      "cell_type": "code",
      "source": [
        "generation_config = {\n",
        "  \"temperature\": 1,\n",
        "  \"top_p\": 0.95,\n",
        "  \"top_k\": 0,\n",
        "  \"max_output_tokens\": 8192,\n",
        "}\n",
        "\n",
        "safety_settings = [\n",
        "  {\n",
        "    \"category\": \"HARM_CATEGORY_HARASSMENT\",\n",
        "    \"threshold\": \"BLOCK_MEDIUM_AND_ABOVE\"\n",
        "  },\n",
        "  {\n",
        "    \"category\": \"HARM_CATEGORY_HATE_SPEECH\",\n",
        "    \"threshold\": \"BLOCK_MEDIUM_AND_ABOVE\"\n",
        "  },\n",
        "  {\n",
        "    \"category\": \"HARM_CATEGORY_SEXUALLY_EXPLICIT\",\n",
        "    \"threshold\": \"BLOCK_MEDIUM_AND_ABOVE\"\n",
        "  },\n",
        "  {\n",
        "    \"category\": \"HARM_CATEGORY_DANGEROUS_CONTENT\",\n",
        "    \"threshold\": \"BLOCK_MEDIUM_AND_ABOVE\"\n",
        "  },\n",
        "]\n",
        "\n",
        "# Aqui estou buscando as instruções iniciais no repo do github\n",
        "# para que o modelo se comporte da forma como eu preciso.\n",
        "# response_system_instruction=requests.get(\"https://raw.githubusercontent.com/tiagosabadini/desafio-alura-google/main/system_instruction.json\")\n",
        "response_system_instruction=json.loads('{\"system_instruction\":\"Você é um agente de cobrança muito educado, que representa um aplicativo chamado Tá Pago!. Seu nome é Tiago. Os educadores físicos contratam o Tá Pago! para lembrar os seus alunos de fazerem os pagamentos na data certa. O Tá Pago! avisa os alunos, recolhe os comprovantes e confere se o educador físico recebeu os pagamentos e confirma com os alunos se o pagamento foi confirmado ou não. O Tá Pago! oferece 3 formas de pagamento: cartão de crédito, pix e boleto. Para ajudar os alunos a realizarem os pagamento considere isso: * Quando o pagamento for com cartão de crédito, ofereça o link do nosso site para inserir os dados do cartão de forma segura: https://parceirodetreino.com/checkout; * Quando o pagamento for com boleto, ofereça o link para gerar um novo boleto: https://parceirodetreino.com/gerar-boleto; * Quando o pagamento for por pix, informe a chave pix: parceiro@parceirodetreino.com e solicite que o aluno nos envie o comprovante. Sempre pergunte ao aluno se ele precisa de ajuda em algo relacionado a cobrança. E ao final de toda conversa pergunte se você pode ajudar em algo mais. Auxilie o aluno a enviar o comprovante sempre pelo nosso site no link https://parceirodetreino.com/enviar-comprovante\"}')\n",
        "system_instruction = response_system_instruction[\"system_instruction\"]\n",
        "system_instruction = system_instruction+f\" Você está falando com {config['nome']}, a forma de pagamento escolhida pelo aluno é {config['forma_pagamento']} e o vencimento está previsto para {config['vencimento']} e considere que hoje é dia {config['data_atual']}\"\n",
        "\n",
        "# if response_system_instruction.status_code == 200:\n",
        "#     system_instruction = json.loads(response_system_instruction.content)\n",
        "#     system_instruction = system_instruction[\"system_instruction\"]\n",
        "# else:\n",
        "#     system_instruction=\"\"\n",
        "\n",
        "model = genai.GenerativeModel(\n",
        "    model_name=\"gemini-1.5-pro-latest\",\n",
        "    generation_config=generation_config,\n",
        "    safety_settings=safety_settings,system_instruction=system_instruction)"
      ],
      "metadata": {
        "id": "Y8n5vxQ9gjPQ"
      },
      "execution_count": 46,
      "outputs": []
    },
    {
      "cell_type": "markdown",
      "source": [
        "## Inicializando o Chat"
      ],
      "metadata": {
        "id": "M3H74rzGgl50"
      }
    },
    {
      "cell_type": "code",
      "source": [
        "history = [];\n",
        "chat = model.start_chat(history=history)"
      ],
      "metadata": {
        "id": "H0iwJOyJgoZz"
      },
      "execution_count": 47,
      "outputs": []
    },
    {
      "cell_type": "code",
      "source": [
        "print(\"## Tá Pago! - Iniciando conversa ##\")\n",
        "print(\"---------------------------------------------------------------------\\n\\n\")\n",
        "print(\"> Tá Pago! - Tiago\")\n",
        "print(first_template_message)\n",
        "print(\"---------------------------------------------------------------------\\n\\n\")\n",
        "\n",
        "print(\"> \" + config['nome'])\n",
        "resposta = input(\"Resposta\\n\")\n",
        "while resposta != \"Tá Pago!\":\n",
        "  response_ia = chat.send_message(resposta)\n",
        "  print(\"> Tá Pago! - Tiago\\n\")\n",
        "  print(response_ia.text)\n",
        "  print(\"---------------------------------------------------------------------\\n\\n\")\n",
        "  print(\"> \" + config['nome'])\n",
        "  resposta = input(\"Digite Tá Pago! para finalizar, ou continue conversando\\n\")\n",
        "  print(\"---------------------------------------------------------------------\\n\\n\")\n",
        "\n",
        "print(\"Chat finalizado\")"
      ],
      "metadata": {
        "id": "RB2BebEzgssx"
      },
      "execution_count": null,
      "outputs": []
    }
  ]
}