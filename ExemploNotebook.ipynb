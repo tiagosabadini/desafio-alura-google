{
  "nbformat": 4,
  "nbformat_minor": 0,
  "metadata": {
    "colab": {
      "provenance": [],
      "authorship_tag": "ABX9TyOwYf1dtQyPTcdzO1D1UILO",
      "include_colab_link": true
    },
    "kernelspec": {
      "name": "python3",
      "display_name": "Python 3"
    },
    "language_info": {
      "name": "python"
    }
  },
  "cells": [
    {
      "cell_type": "markdown",
      "metadata": {
        "id": "view-in-github",
        "colab_type": "text"
      },
      "source": [
        "<a href=\"https://colab.research.google.com/github/tiagosabadini/desafio-alura-google/blob/main/ExemploNotebook.ipynb\" target=\"_parent\"><img src=\"https://colab.research.google.com/assets/colab-badge.svg\" alt=\"Open In Colab\"/></a>"
      ]
    },
    {
      "cell_type": "code",
      "source": [
        "import google.generativeai as genai\n",
        "from google.colab import userdata\n",
        "genai.configure(api_key=userdata.get('GOOGLE_API_KEY'))"
      ],
      "metadata": {
        "id": "ha8JDYTjizAP"
      },
      "execution_count": null,
      "outputs": []
    },
    {
      "cell_type": "code",
      "source": [
        "generation_config = {\n",
        "  \"temperature\": 1,\n",
        "  \"top_p\": 0.95,\n",
        "  \"top_k\": 0,\n",
        "  \"max_output_tokens\": 8192,\n",
        "}\n",
        "\n",
        "safety_settings = [\n",
        "  {\n",
        "    \"category\": \"HARM_CATEGORY_HARASSMENT\",\n",
        "    \"threshold\": \"BLOCK_MEDIUM_AND_ABOVE\"\n",
        "  },\n",
        "  {\n",
        "    \"category\": \"HARM_CATEGORY_HATE_SPEECH\",\n",
        "    \"threshold\": \"BLOCK_MEDIUM_AND_ABOVE\"\n",
        "  },\n",
        "  {\n",
        "    \"category\": \"HARM_CATEGORY_SEXUALLY_EXPLICIT\",\n",
        "    \"threshold\": \"BLOCK_MEDIUM_AND_ABOVE\"\n",
        "  },\n",
        "  {\n",
        "    \"category\": \"HARM_CATEGORY_DANGEROUS_CONTENT\",\n",
        "    \"threshold\": \"BLOCK_MEDIUM_AND_ABOVE\"\n",
        "  },\n",
        "]\n",
        "\n",
        "model = genai.GenerativeModel(model_name=\"gemini-1.5-pro-latest\", generation_config=generation_config, safety_settings=safety_settings)\n",
        "\n",
        "convo = model.start_chat()\n",
        "\n",
        "convo.send_message(\"Vamos aprender sobre IA, me dê um tópico para iniciar nessa jornada.\")\n",
        "print(convo.last.text)"
      ],
      "metadata": {
        "colab": {
          "base_uri": "https://localhost:8080/",
          "height": 349
        },
        "id": "YtAJlIE9jBzN",
        "outputId": "c86edfb4-c9d2-47c0-f3a6-5f2113a4cd2c"
      },
      "execution_count": null,
      "outputs": [
        {
          "output_type": "stream",
          "name": "stdout",
          "text": [
            "## Mergulhando no Mundo da IA: Um Universo de Possibilidades!\n",
            "\n",
            "O campo da IA é vasto e fascinante, com inúmeras áreas para explorar. Para começar sua jornada, sugiro um tópico fundamental e intrigante: **Aprendizado de Máquina (Machine Learning)**. \n",
            "\n",
            "**Por que Aprendizado de Máquina?**\n",
            "\n",
            "*   **Base da IA moderna:** O aprendizado de máquina é a base de muitas aplicações de IA que vemos hoje, como reconhecimento de imagem, tradução automática e assistentes virtuais. Compreender seus conceitos é essencial para entender como a IA funciona.\n",
            "*   **Diversidade de abordagens:** Existem várias técnicas de aprendizado de máquina, como aprendizado supervisionado, não supervisionado e por reforço. Isso permite que você explore diferentes métodos e encontre o que mais lhe interessa.\n",
            "*   **Aplicações práticas:** O aprendizado de máquina tem aplicações em diversas áreas, como medicina, finanças, marketing e entretenimento. Você pode explorar como a IA está sendo usada para resolver problemas do mundo real.\n",
            "\n",
            "**Como começar a aprender sobre Aprendizado de Máquina:**\n",
            "\n",
            "*   **Cursos online:** Existem muitos cursos online gratuitos e pagos sobre aprendizado de máquina. Algumas plataformas populares incluem Coursera, edX e Udacity.\n",
            "*   **Livros e artigos:** Há uma vasta literatura sobre aprendizado de máquina, desde livros introdutórios até artigos de pesquisa avançados. \n",
            "*   **Tutoriais e projetos práticos:** A melhor maneira de aprender é colocar a mão na massa. Existem muitos tutoriais e projetos práticos disponíveis online que permitem que você experimente diferentes algoritmos de aprendizado de máquina.\n",
            "\n",
            "**Lembre-se, a jornada para aprender sobre IA é contínua e cheia de descobertas. Comece com o aprendizado de máquina e explore as inúmeras possibilidades que esse campo tem a oferecer!** \n",
            "\n"
          ]
        }
      ]
    }
  ]
}